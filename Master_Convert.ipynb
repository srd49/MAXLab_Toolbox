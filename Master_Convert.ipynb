{
 "cells": [
  {
   "cell_type": "markdown",
   "metadata": {},
   "source": [
    "## Convert ROIs From Anatomical to Functional Space"
   ]
  },
  {
   "cell_type": "code",
   "execution_count": 17,
   "metadata": {
    "scrolled": true
   },
   "outputs": [],
   "source": [
    "import RSAConvert as rsa_convert\n",
    "subjects=[\"MR1103\", \"MR1106\", \"MR1108\", \"MR1112\", \"MR1126\", \"MR1133\", \"MR1134\", \"MR1135\", \"MR1137\", \"MR1140\", \"MR1142\", \"MR1146\", \"MR1150\", \"MR1151\", \"MR1153\", \"MR1154\", \"MR1155\", \"MR1162\", \"MR1141\", \"MR1145\", \"MR1157\", \"MR1144\"]\n",
    "subjects=[\"MR1103\"]\n",
    "rois = ['lh.antTemp', 'lh.IFG', 'lh.insula', 'lh.midTemp', 'lh.L_pariet', 'lh.S1','lh.iSTG','lh.sSTG',\n",
    "'lh.S2', 'lh.supp', 'lh.TPJ', 'lh.vwfa', 'rh.insula', 'rh.pariet', 'rh.S2']"
   ]
  },
  {
   "cell_type": "code",
   "execution_count": 18,
   "metadata": {
    "scrolled": true
   },
   "outputs": [
    {
     "name": "stdout",
     "output_type": "stream",
     "text": [
      "1103_L_antTemp.label\n",
      "L_antTemp\n",
      "L\n",
      "lh\n",
      "antTemp\n",
      "lh.antTemp.label\n",
      "/Volumes/SD_Back/Grad_Projects/FB/ROIs/surface_masks_new/MR1103/lh.antTemp.label\n"
     ]
    }
   ],
   "source": [
    "for s in subjects:\n",
    "    x = rsa_convert.Converter(s)\n",
    "    sub = x.subName\n",
    "    maskDir = x.roiDir + 'surface_masks_new/'  + sub + '/'\n",
    "    for r in rois:\n",
    "        foo = x.getROINames(maskDir,[r,'*.label'])\n",
    "        if foo==1:\n",
    "            hemi = x.hemi\n",
    "            outputDir = x.roiDir + 'surface_masks_new/' + x.subName + '/Anat2Func/'\n",
    "            x.write_label21D(hemi,x.ROIs[0],maskDir,maskDir+'Anat2Func' +'/') # Creates 1D file for the label data\n",
    "            inputDir = x.roiDir + 'surface_masks_new/' + x.subName + '/Anat2Func/' \n",
    "            x.mapAnat2Func(x.ROIs[0][:-6],hemi)"
   ]
  },
  {
   "cell_type": "markdown",
   "metadata": {},
   "source": [
    "## Convert ROIs From Functional to Anatomical Space"
   ]
  },
  {
   "cell_type": "code",
   "execution_count": 14,
   "metadata": {},
   "outputs": [],
   "source": [
    "x.mapAnat2Func('lh.S2',hemi)"
   ]
  },
  {
   "cell_type": "code",
   "execution_count": 12,
   "metadata": {},
   "outputs": [
    {
     "data": {
      "text/plain": [
       "'lh.S2'"
      ]
     },
     "execution_count": 12,
     "metadata": {},
     "output_type": "execute_result"
    }
   ],
   "source": [
    "x.ROIs[0][:-6]"
   ]
  },
  {
   "cell_type": "code",
   "execution_count": null,
   "metadata": {},
   "outputs": [],
   "source": []
  }
 ],
 "metadata": {
  "kernelspec": {
   "display_name": "Python 3",
   "language": "python",
   "name": "python3"
  },
  "language_info": {
   "codemirror_mode": {
    "name": "ipython",
    "version": 3
   },
   "file_extension": ".py",
   "mimetype": "text/x-python",
   "name": "python",
   "nbconvert_exporter": "python",
   "pygments_lexer": "ipython3",
   "version": "3.6.3"
  }
 },
 "nbformat": 4,
 "nbformat_minor": 2
}
